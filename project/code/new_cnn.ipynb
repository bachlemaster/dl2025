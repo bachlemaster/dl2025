{
 "cells": [
  {
   "cell_type": "code",
   "execution_count": null,
   "id": "18e75d3e",
   "metadata": {},
   "outputs": [],
   "source": [
    "import os\n",
    "import math\n",
    "import random\n",
    "from PIL import Image\n",
    "import matplotlib.pyplot as plt\n",
    "import zipfile\n",
    "\n"
   ]
  },
  {
   "cell_type": "code",
   "execution_count": null,
   "id": "b7100e40",
   "metadata": {},
   "outputs": [],
   "source": [
    "\n",
    "if not os.path.exists('./data/train'):\n",
    "    with zipfile.ZipFile('./train.zip') as train_zip:\n",
    "        train_zip.extractall('./data')\n",
    "    with zipfile.ZipFile('./test.zip') as test_zip:\n",
    "        test_zip.extractall('./data')\n",
    "\n",
    "train_dir = './data/train'\n",
    "test_dir = './data/test'\n",
    "\n"
   ]
  },
  {
   "cell_type": "code",
   "execution_count": null,
   "id": "9abcc461",
   "metadata": {},
   "outputs": [],
   "source": [
    "def get_filelist_and_labels(folder):\n",
    "    file_list = []\n",
    "    label_list = []\n",
    "    for fname in os.listdir(folder):\n",
    "        if fname.endswith('.jpg') or fname.endswith('.png'):\n",
    "            file_list.append(os.path.join(folder, fname))\n",
    "            # Tên file: cat.0.jpg hay dog.123.jpg...\n",
    "            prefix = fname.split('.')[0]\n",
    "            label = 1 if prefix == 'dog' else 0\n",
    "            label_list.append(label)\n",
    "    return file_list, label_list\n",
    "\n",
    "\n"
   ]
  },
  {
   "cell_type": "code",
   "execution_count": null,
   "id": "1f027dd2",
   "metadata": {},
   "outputs": [],
   "source": [
    "X_train_files, y_train = get_filelist_and_labels(train_dir)\n",
    "X_test_files, y_test = get_filelist_and_labels(test_dir)\n",
    "\n",
    "MAX_TRAIN = 1000\n",
    "MAX_TEST = 200\n",
    "X_train_files, y_train = X_train_files[:MAX_TRAIN], y_train[:MAX_TRAIN]\n",
    "X_test_files, y_test = X_test_files[:MAX_TEST], y_test[:MAX_TEST]\n",
    "\n",
    "\n"
   ]
  },
  {
   "cell_type": "code",
   "execution_count": null,
   "id": "5d782483",
   "metadata": {},
   "outputs": [],
   "source": [
    "def load_images(filelist, img_size=(32,32)):\n",
    "    X = []\n",
    "    for fname in filelist:\n",
    "        img = Image.open(fname).convert('L').resize(img_size)\n",
    "        arr = [[img.getpixel((j, i))/255.0 for j in range(img_size[1])] for i in range(img_size[0])]\n",
    "        X.append([arr]) # [1][H][W]\n",
    "    return X\n",
    "\n"
   ]
  },
  {
   "cell_type": "code",
   "execution_count": null,
   "id": "df08d12a",
   "metadata": {},
   "outputs": [],
   "source": [
    "X_train = load_images(X_train_files)\n",
    "X_test = load_images(X_test_files)\n",
    "\n",
    "# Shuffle train set\n",
    "train_data = list(zip(X_train, y_train))\n",
    "random.shuffle(train_data)\n",
    "X_train, y_train = zip(*train_data)\n",
    "\n",
    "\n"
   ]
  },
  {
   "cell_type": "code",
   "execution_count": null,
   "id": "80477267",
   "metadata": {},
   "outputs": [],
   "source": [
    "class Conv2D:\n",
    "    def __init__(self, in_size, kernel_size, filters):\n",
    "        self.kernel_size = kernel_size\n",
    "        self.filters = filters\n",
    "        self.kernels = [[[[\n",
    "            random.uniform(-0.1, 0.1) for _ in range(kernel_size)\n",
    "        ] for _ in range(kernel_size)] for _ in range(1)] for _ in range(filters)]\n",
    "        self.bias = [random.uniform(-0.05, 0.05) for _ in range(filters)]\n",
    "    def forward(self, x):\n",
    "        h = len(x[0])\n",
    "        w = len(x[0][0])\n",
    "        out_size = h - self.kernel_size + 1\n",
    "        out = [[[0 for _ in range(out_size)] for _ in range(out_size)] for _ in range(self.filters)]\n",
    "        for f in range(self.filters):\n",
    "            for i in range(out_size):\n",
    "                for j in range(out_size):\n",
    "                    s = 0\n",
    "                    for ki in range(self.kernel_size):\n",
    "                        for kj in range(self.kernel_size):\n",
    "                            s += x[0][i+ki][j+kj] * self.kernels[f][0][ki][kj]\n",
    "                    out[f][i][j] = s + self.bias[f]\n",
    "        return out\n",
    "\n"
   ]
  },
  {
   "cell_type": "code",
   "execution_count": null,
   "id": "06b72360",
   "metadata": {},
   "outputs": [],
   "source": [
    "class MaxPool2D:\n",
    "    def __init__(self, pool_size):\n",
    "        self.pool_size = pool_size\n",
    "    def forward(self, x):\n",
    "        C = len(x)\n",
    "        H = len(x[0])\n",
    "        W = len(x[0][0])\n",
    "        out_H = H // self.pool_size\n",
    "        out_W = W // self.pool_size\n",
    "        out = [[[0 for _ in range(out_W)] for _ in range(out_H)] for _ in range(C)]\n",
    "        for c in range(C):\n",
    "            for i in range(out_H):\n",
    "                for j in range(out_W):\n",
    "                    mx = -math.inf\n",
    "                    for pi in range(self.pool_size):\n",
    "                        for pj in range(self.pool_size):\n",
    "                            mx = max(mx, x[c][i*self.pool_size+pi][j*self.pool_size+pj])\n",
    "                    out[c][i][j] = mx\n",
    "        return out\n",
    "\n"
   ]
  },
  {
   "cell_type": "code",
   "execution_count": null,
   "id": "9ca29810",
   "metadata": {},
   "outputs": [],
   "source": [
    "class Flatten:\n",
    "    def forward(self, x):\n",
    "        return [v for c in x for row in c for v in row]\n",
    "\n"
   ]
  },
  {
   "cell_type": "code",
   "execution_count": null,
   "id": "3d38d6f5",
   "metadata": {},
   "outputs": [],
   "source": [
    "class Dense:\n",
    "    def __init__(self, in_features, out_features):\n",
    "        self.in_features = in_features\n",
    "        self.out_features = out_features\n",
    "        self.weights = [[random.uniform(-0.1, 0.1) for _ in range(in_features)] for _ in range(out_features)]\n",
    "        self.bias = [random.uniform(-0.05, 0.05) for _ in range(out_features)]\n",
    "        self.last_input = None\n",
    "    def forward(self, x):\n",
    "        self.last_input = x\n",
    "        return [sum(self.weights[i][j]*x[j] for j in range(self.in_features)) + self.bias[i] for i in range(self.out_features)]\n",
    "    def backward(self, grad_out, lr):\n",
    "        for i in range(self.out_features):\n",
    "            for j in range(self.in_features):\n",
    "                self.weights[i][j] -= lr * grad_out[i] * self.last_input[j]\n",
    "            self.bias[i] -= lr * grad_out[i]\n",
    "\n"
   ]
  },
  {
   "cell_type": "code",
   "execution_count": null,
   "id": "04a995b8",
   "metadata": {},
   "outputs": [],
   "source": [
    "def relu(x):\n",
    "    if isinstance(x[0], list):\n",
    "        return [relu(sub) for sub in x]\n",
    "    return [max(0, v) for v in x]\n",
    "\n",
    "def softmax(x):\n",
    "    m = max(x)\n",
    "    exps = [math.exp(i-m) for i in x]\n",
    "    sum_exps = sum(exps)\n",
    "    return [e/sum_exps for e in exps]\n",
    "\n",
    "def cross_entropy(pred, label):\n",
    "    eps = 1e-10\n",
    "    return -math.log(pred[label] + eps)\n",
    "\n",
    "def cross_entropy_grad(pred, label):\n",
    "    grad = [p for p in pred]\n",
    "    grad[label] -= 1\n",
    "    return grad\n",
    "\n",
    "def get_flatten_size(img_size):\n",
    "    size = img_size\n",
    "    size = (size - 3 + 1) // 2\n",
    "    return size * size * 8\n",
    "\n"
   ]
  },
  {
   "cell_type": "code",
   "execution_count": null,
   "id": "6c51214f",
   "metadata": {},
   "outputs": [],
   "source": [
    "\n",
    "img_size = 32\n",
    "epochs = 5\n",
    "lr = 0.001\n"
   ]
  },
  {
   "cell_type": "code",
   "execution_count": null,
   "id": "4042761c",
   "metadata": {},
   "outputs": [],
   "source": [
    "\n",
    "conv1 = Conv2D(img_size, 3, 8)\n",
    "pool1 = MaxPool2D(2)\n",
    "flatten = Flatten()\n",
    "flatten_size = get_flatten_size(img_size)\n",
    "dense1 = Dense(flatten_size, 2)\n",
    "\n",
    "\n"
   ]
  },
  {
   "cell_type": "code",
   "execution_count": null,
   "id": "5551af76",
   "metadata": {},
   "outputs": [],
   "source": [
    "batch_size = 10\n",
    "for ep in range(epochs):\n",
    "    total_loss = 0\n",
    "    for bi in range(0, len(X_train), batch_size):\n",
    "        grad_sum = [0]*2\n",
    "        for idx in range(bi, min(bi+batch_size, len(X_train))):\n",
    "            xi, yi = X_train[idx], y_train[idx]\n",
    "            x = conv1.forward(xi)\n",
    "            x = relu(x)\n",
    "            x = pool1.forward(x)\n",
    "            x = flatten.forward(x)\n",
    "            logits = dense1.forward(x)\n",
    "            probs = softmax(logits)\n",
    "            loss = cross_entropy(probs, yi)\n",
    "            total_loss += loss\n",
    "            grad_logits = cross_entropy_grad(probs, yi)\n",
    "            # Cộng dồn grad\n",
    "            grad_sum = [grad_sum[i]+grad_logits[i] for i in range(2)]\n",
    "        # Update dense1\n",
    "        dense1.backward([g/batch_size for g in grad_sum], lr)\n",
    "    print(f\"Epoch {ep+1}, Loss: {total_loss/len(X_train):.4f}\")\n",
    "\n"
   ]
  },
  {
   "cell_type": "code",
   "execution_count": null,
   "id": "de79e423",
   "metadata": {},
   "outputs": [],
   "source": [
    "\n",
    "plt.figure(figsize=(10,5))\n",
    "for i in range(8):\n",
    "    x = conv1.forward(X_test[i])\n",
    "    x = relu(x)\n",
    "    x = pool1.forward(x)\n",
    "    x = flatten.forward(x)\n",
    "    logits = dense1.forward(x)\n",
    "    probs = softmax(logits)\n",
    "    pred = probs.index(max(probs))\n",
    "    plt.subplot(2,4,i+1)\n",
    "    plt.imshow(X_test[i][0], cmap='gray')\n",
    "    plt.title(\"Pred: %s\" % (\"dog\" if pred==1 else \"cat\"))\n",
    "    plt.axis('off')\n",
    "plt.tight_layout()\n",
    "plt.show()"
   ]
  }
 ],
 "metadata": {
  "language_info": {
   "name": "python"
  }
 },
 "nbformat": 4,
 "nbformat_minor": 5
}
